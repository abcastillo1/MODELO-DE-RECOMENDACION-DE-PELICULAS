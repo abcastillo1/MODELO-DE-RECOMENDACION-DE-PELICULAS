{
  "nbformat": 4,
  "nbformat_minor": 0,
  "metadata": {
    "colab": {
      "name": "Modelos-KNN-SVD-FactorizacionMatricial.ipynb",
      "provenance": [],
      "collapsed_sections": []
    },
    "kernelspec": {
      "name": "python3",
      "display_name": "Python 3"
    },
    "language_info": {
      "name": "python"
    }
  },
  "cells": [
    {
      "cell_type": "markdown",
      "source": [
        "# **Dataset**"
      ],
      "metadata": {
        "id": "Vy2NYK-rEMlH"
      }
    },
    {
      "cell_type": "code",
      "execution_count": 1,
      "metadata": {
        "id": "3VtapFNEdaEr"
      },
      "outputs": [],
      "source": [
        "import pandas as pd\n",
        "import numpy as np\n",
        "import matplotlib.pyplot as plt\n",
        "import seaborn as sns\n",
        "from sklearn.model_selection import train_test_split\n",
        "from sklearn import metrics"
      ]
    },
    {
      "cell_type": "markdown",
      "source": [
        "Cargar los Datos."
      ],
      "metadata": {
        "id": "YjtxW4dBjbpE"
      }
    },
    {
      "cell_type": "code",
      "source": [
        "df = pd.read_csv(\"movies_rating.csv\").drop(['Unnamed: 0'],axis =1)\n",
        "df_rating=df"
      ],
      "metadata": {
        "id": "dsG8Fda_x6V9"
      },
      "execution_count": 2,
      "outputs": []
    },
    {
      "cell_type": "markdown",
      "source": [
        "Dividir los datos en conjuntos de datos de entrenamiento y prueba."
      ],
      "metadata": {
        "id": "4tEcdw79CtCv"
      }
    },
    {
      "cell_type": "code",
      "source": [
        "min_rating = min(df[\"rating\"])\n",
        "max_rating = max(df[\"rating\"])\n",
        "X = df_rating[[\"userId\", \"movieId\"]]\n",
        "y = df[['rating']].apply(lambda x: (x - min_rating) / (max_rating - min_rating))\n",
        "y = y.astype('int64')\n",
        "X_train, X_test, y_train, y_test = train_test_split(X, y, test_size=0.3)"
      ],
      "metadata": {
        "id": "aKbLJ2G0r72c"
      },
      "execution_count": 3,
      "outputs": []
    },
    {
      "cell_type": "markdown",
      "source": [
        "Diccionario CLAVE - VALOR "
      ],
      "metadata": {
        "id": "5WziQ-NhC22P"
      }
    },
    {
      "cell_type": "code",
      "source": [
        "user_mapper = dict(df_rating.movieId) \n",
        "movies_list = list(user_mapper)"
      ],
      "metadata": {
        "id": "WN49hE6OCx9_"
      },
      "execution_count": 4,
      "outputs": []
    },
    {
      "cell_type": "markdown",
      "source": [
        "Funciones para retornar los valores de fila o columna de cada película."
      ],
      "metadata": {
        "id": "VoWRftOYDXSG"
      }
    },
    {
      "cell_type": "code",
      "source": [
        "def obtener_fila(val):\n",
        "    for key, value in user_mapper.items():\n",
        "         if val == value:\n",
        "             return key"
      ],
      "metadata": {
        "id": "JvxrApukOONN"
      },
      "execution_count": 5,
      "outputs": []
    },
    {
      "cell_type": "code",
      "source": [
        "def obtener_valor(val):\n",
        "    for key, value in user_mapper.items():\n",
        "         if val == key:\n",
        "             return value"
      ],
      "metadata": {
        "id": "1C5pGjGwyOGm"
      },
      "execution_count": 6,
      "outputs": []
    },
    {
      "cell_type": "markdown",
      "source": [
        "# **KNN Model**\n",
        "Uno de los métodos más populares de filtrado colaborativo es el algoritmo k-Nearest Neighbors (kNN). kNN es un algoritmo de clasificación donde k es un parámetro que especifica el número de vecinos utilizados. Para usar kNN, el sistema debe tener una medida similitud para distinguir entre los usuarios que están cerca y los que están lejos. "
      ],
      "metadata": {
        "id": "q9oW41-i_6X4"
      }
    },
    {
      "cell_type": "code",
      "source": [
        "# Librerías necesarias para el modelo\n",
        "from sklearn.neighbors import KNeighborsClassifier\n",
        "from sklearn import metrics\n",
        "from sklearn.metrics import confusion_matrix\n",
        "from sklearn.model_selection import cross_val_score\n",
        "from math import sqrt\n",
        "from sklearn.metrics import mean_squared_error"
      ],
      "metadata": {
        "id": "mfMTZWo9_-2A"
      },
      "execution_count": 7,
      "outputs": []
    },
    {
      "cell_type": "code",
      "source": [
        "KNN = KNeighborsClassifier(metric='cosine', algorithm='brute', n_neighbors=5)\n",
        "KNN.fit(X_train, y_train.values.ravel())    \n",
        "y_predict = KNN.predict(X_test)\n",
        "\n",
        "def recomendacion_modeloKNN(id, modelo, datos, k):\n",
        "  fila=obtener_fila(id)\n",
        "  movies_list = list(user_mapper)\n",
        "  print('Pelicula Seleccionada: ',fila)  \n",
        "  print('-----------------------------------------------------------------')\n",
        "  distancia,indice=modelo.kneighbors(datos.iloc[[fila]], n_neighbors = k)   \n",
        "  print(indice)     "
      ],
      "metadata": {
        "id": "jq19hcKvACaH"
      },
      "execution_count": 8,
      "outputs": []
    },
    {
      "cell_type": "markdown",
      "source": [
        "Modelo de recomendación KNN"
      ],
      "metadata": {
        "id": "LRqW5IwI9vpu"
      }
    },
    {
      "cell_type": "code",
      "source": [
        "recomendacion_modeloKNN(10, KNN, X_train,5)"
      ],
      "metadata": {
        "colab": {
          "base_uri": "https://localhost:8080/"
        },
        "id": "5eIFzB0srSGu",
        "outputId": "7add6318-0c8d-43e0-8de3-ed9a40784aaf"
      },
      "execution_count": 9,
      "outputs": [
        {
          "output_type": "stream",
          "name": "stdout",
          "text": [
            "Pelicula Seleccionada:  567\n",
            "-----------------------------------------------------------------\n",
            "[[12554   567 55954 57148 21374]]\n"
          ]
        }
      ]
    },
    {
      "cell_type": "markdown",
      "source": [
        "Métricas de evaluación del modelo KNN"
      ],
      "metadata": {
        "id": "5a8IjXCz94-v"
      }
    },
    {
      "cell_type": "code",
      "source": [
        "print(\"KNN Accuracy:\",metrics.accuracy_score(y_test, y_predict))\n",
        "KNN_RMSE=sqrt(mean_squared_error(y_test,y_predict))\n",
        "print(\"Root Mean Square error KNN\",KNN_RMSE)"
      ],
      "metadata": {
        "colab": {
          "base_uri": "https://localhost:8080/"
        },
        "id": "h2VyXP16AE-4",
        "outputId": "b997b2d2-678f-4e94-e54d-11447adce525"
      },
      "execution_count": 10,
      "outputs": [
        {
          "output_type": "stream",
          "name": "stdout",
          "text": [
            "KNN Accuracy: 0.8548808303857723\n",
            "Root Mean Square error KNN 0.3809451005252957\n"
          ]
        }
      ]
    },
    {
      "cell_type": "markdown",
      "source": [
        "Exactitud para cada K del modelo"
      ],
      "metadata": {
        "id": "ZVwo_ADs7IWp"
      }
    },
    {
      "cell_type": "code",
      "source": [
        "scores = cross_val_score(KNN, X, y, cv=5, scoring='accuracy')\n",
        "print(scores)"
      ],
      "metadata": {
        "colab": {
          "base_uri": "https://localhost:8080/"
        },
        "id": "qm-8dgTcKItV",
        "outputId": "24c106ea-267a-4df8-d2ee-8e3b39fbe32b"
      },
      "execution_count": 11,
      "outputs": [
        {
          "output_type": "stream",
          "name": "stderr",
          "text": [
            "/usr/local/lib/python3.7/dist-packages/sklearn/neighbors/_classification.py:198: DataConversionWarning: A column-vector y was passed when a 1d array was expected. Please change the shape of y to (n_samples,), for example using ravel().\n",
            "  return self._fit(X, y)\n",
            "/usr/local/lib/python3.7/dist-packages/sklearn/neighbors/_classification.py:198: DataConversionWarning: A column-vector y was passed when a 1d array was expected. Please change the shape of y to (n_samples,), for example using ravel().\n",
            "  return self._fit(X, y)\n",
            "/usr/local/lib/python3.7/dist-packages/sklearn/neighbors/_classification.py:198: DataConversionWarning: A column-vector y was passed when a 1d array was expected. Please change the shape of y to (n_samples,), for example using ravel().\n",
            "  return self._fit(X, y)\n",
            "/usr/local/lib/python3.7/dist-packages/sklearn/neighbors/_classification.py:198: DataConversionWarning: A column-vector y was passed when a 1d array was expected. Please change the shape of y to (n_samples,), for example using ravel().\n",
            "  return self._fit(X, y)\n",
            "/usr/local/lib/python3.7/dist-packages/sklearn/neighbors/_classification.py:198: DataConversionWarning: A column-vector y was passed when a 1d array was expected. Please change the shape of y to (n_samples,), for example using ravel().\n",
            "  return self._fit(X, y)\n"
          ]
        },
        {
          "output_type": "stream",
          "name": "stdout",
          "text": [
            "[0.76190004 0.85496108 0.85193633 0.85540735 0.85144047]\n"
          ]
        }
      ]
    },
    {
      "cell_type": "markdown",
      "source": [
        "Promedio de la exactitud del modelo"
      ],
      "metadata": {
        "id": "VnVB41qC6mES"
      }
    },
    {
      "cell_type": "code",
      "source": [
        "scores.mean()"
      ],
      "metadata": {
        "colab": {
          "base_uri": "https://localhost:8080/"
        },
        "id": "q_GCMkilggt9",
        "outputId": "d3898b88-fefb-4db3-a88f-356ef4c43f1c"
      },
      "execution_count": 12,
      "outputs": [
        {
          "output_type": "execute_result",
          "data": {
            "text/plain": [
              "0.8351290534036826"
            ]
          },
          "metadata": {},
          "execution_count": 12
        }
      ]
    },
    {
      "cell_type": "markdown",
      "source": [
        "# **SVD Model**\n",
        "La Descomposición en valores singulares (SVD) es un algoritmo conveniente para trabajar con matrices. La Descomposición en valores singulares se utiliza en la resolución de varios problemas, el método de aproximación mínimos cuadrados, resolución de sistemas de ecuaciones, entre otras."
      ],
      "metadata": {
        "id": "cK4hNIZddjuK"
      }
    },
    {
      "cell_type": "code",
      "source": [
        "# Librerías necesarias para el modelo\n",
        "!pip install surprise\n",
        "from collections import defaultdict\n",
        "from surprise import Reader, Dataset\n",
        "from surprise.model_selection import train_test_split\n",
        "from surprise import SVD, accuracy"
      ],
      "metadata": {
        "colab": {
          "base_uri": "https://localhost:8080/"
        },
        "id": "bBRlUDV9gden",
        "outputId": "c5014513-ea24-455f-af1f-9cc60e802174"
      },
      "execution_count": 13,
      "outputs": [
        {
          "output_type": "stream",
          "name": "stdout",
          "text": [
            "Collecting surprise\n",
            "  Downloading surprise-0.1-py2.py3-none-any.whl (1.8 kB)\n",
            "Collecting scikit-surprise\n",
            "  Downloading scikit-surprise-1.1.1.tar.gz (11.8 MB)\n",
            "\u001b[K     |████████████████████████████████| 11.8 MB 4.2 MB/s \n",
            "\u001b[?25hRequirement already satisfied: joblib>=0.11 in /usr/local/lib/python3.7/dist-packages (from scikit-surprise->surprise) (1.1.0)\n",
            "Requirement already satisfied: numpy>=1.11.2 in /usr/local/lib/python3.7/dist-packages (from scikit-surprise->surprise) (1.21.5)\n",
            "Requirement already satisfied: scipy>=1.0.0 in /usr/local/lib/python3.7/dist-packages (from scikit-surprise->surprise) (1.4.1)\n",
            "Requirement already satisfied: six>=1.10.0 in /usr/local/lib/python3.7/dist-packages (from scikit-surprise->surprise) (1.15.0)\n",
            "Building wheels for collected packages: scikit-surprise\n",
            "  Building wheel for scikit-surprise (setup.py) ... \u001b[?25l\u001b[?25hdone\n",
            "  Created wheel for scikit-surprise: filename=scikit_surprise-1.1.1-cp37-cp37m-linux_x86_64.whl size=1630178 sha256=47f2a77600c4077d22ece582b82280d9952bf81eb8adf17575c6d2b30c4ff46d\n",
            "  Stored in directory: /root/.cache/pip/wheels/76/44/74/b498c42be47b2406bd27994e16c5188e337c657025ab400c1c\n",
            "Successfully built scikit-surprise\n",
            "Installing collected packages: scikit-surprise, surprise\n",
            "Successfully installed scikit-surprise-1.1.1 surprise-0.1\n"
          ]
        }
      ]
    },
    {
      "cell_type": "code",
      "source": [
        "reader = Reader(rating_scale=(1, 5))\n",
        "data = Dataset.load_from_df(df_rating, reader)\n",
        "trainset, testset = train_test_split(data, test_size=0.30)\n",
        "\n",
        "algo = SVD()\n",
        "algo.fit(trainset)\n",
        "predictions = algo.test(testset)\n",
        "\n",
        "def recomendacion_modeloSVD(predictions, n):\n",
        "    # Asignar las predicciones a cada usuario.\n",
        "    top_n = defaultdict(list)    \n",
        "    print('registros',top_n.items())\n",
        "    for uid, iid, true_r, est, _ in predictions:\n",
        "        top_n[0].append((iid, est))\n",
        "\n",
        "    # Ordenar las predicciones para cada usuario y recupere las k más altas.\n",
        "    for uid, user_ratings in top_n.items():\n",
        "        user_ratings.sort(key=lambda x: x[1], reverse=True)\n",
        "        top_n[uid] = user_ratings[:n]\n",
        "\n",
        "    return top_n"
      ],
      "metadata": {
        "id": "MqmofCMhFG_-"
      },
      "execution_count": 14,
      "outputs": []
    },
    {
      "cell_type": "markdown",
      "source": [
        "Modelo de recomendación SVD"
      ],
      "metadata": {
        "id": "8DSlcNDP-_I9"
      }
    },
    {
      "cell_type": "code",
      "source": [
        "top_n = recomendacion_modeloSVD(predictions, n=10)\n",
        "\n",
        "# Películas recomendadas para el usuario\n",
        "for uid, user_ratings in top_n.items():\n",
        "    print(uid, [iid for (iid, _) in user_ratings])"
      ],
      "metadata": {
        "id": "nTWsEWxjgb5p",
        "colab": {
          "base_uri": "https://localhost:8080/"
        },
        "outputId": "ecc7a53e-21c1-417f-9de8-5d45f2bb4b1c"
      },
      "execution_count": 15,
      "outputs": [
        {
          "output_type": "stream",
          "name": "stdout",
          "text": [
            "registros dict_items([])\n",
            "0 [1089, 318, 318, 2019, 1198, 590, 318, 475, 608, 1213]\n"
          ]
        }
      ]
    },
    {
      "cell_type": "markdown",
      "source": [
        "Métrica de evaluación del modelo SVD"
      ],
      "metadata": {
        "id": "WN_tzmVn_YMU"
      }
    },
    {
      "cell_type": "code",
      "source": [
        "SVD_RMSE=accuracy.rmse(predictions)\n",
        "print(\"Root Mean Square Error SVD\",SVD_RMSE)"
      ],
      "metadata": {
        "colab": {
          "base_uri": "https://localhost:8080/"
        },
        "id": "OCqn9BFQsK5M",
        "outputId": "c8eacdd0-1fdd-43f7-bffd-bc69e2040802"
      },
      "execution_count": 16,
      "outputs": [
        {
          "output_type": "stream",
          "name": "stdout",
          "text": [
            "RMSE: 0.8778\n",
            "Root Mean Square Error SVD 0.8777807164690808\n"
          ]
        }
      ]
    },
    {
      "cell_type": "markdown",
      "source": [
        "# **Matrix Factorization Model**\n",
        "La Factorización Matricial determina los valores de la calificación pronosticada al separar los componentes matrices del usuario y encontrar el valor del parámetro más cercano posible a la matriz original. El cual será el valor que tenga calificaciones de películas que los usuarios nunca hayan calificado antes y sugerirá películas con calificaciones altas."
      ],
      "metadata": {
        "id": "vosDvX_hdoxa"
      }
    },
    {
      "cell_type": "code",
      "source": [
        "# Librerías necesarias para el modelo\n",
        "!pip install thunder-factorization\n",
        "!pip install git+https://github.com/maciejkula/spotlight.git lightfm\n",
        "from spotlight.interactions import Interactions\n",
        "from spotlight.factorization.explicit import ExplicitFactorizationModel\n",
        "from spotlight.cross_validation import random_train_test_split\n",
        "from spotlight.evaluation import rmse_score"
      ],
      "metadata": {
        "id": "U1XqoxSGeD-6",
        "colab": {
          "base_uri": "https://localhost:8080/"
        },
        "outputId": "1ce94591-d046-49da-cb73-3a7fdc331c2c"
      },
      "execution_count": 17,
      "outputs": [
        {
          "output_type": "stream",
          "name": "stdout",
          "text": [
            "Collecting thunder-factorization\n",
            "  Downloading thunder-factorization-1.0.0.tar.gz (8.1 kB)\n",
            "Requirement already satisfied: numpy in /usr/local/lib/python3.7/dist-packages (from thunder-factorization) (1.21.5)\n",
            "Requirement already satisfied: scipy in /usr/local/lib/python3.7/dist-packages (from thunder-factorization) (1.4.1)\n",
            "Requirement already satisfied: scikit-learn in /usr/local/lib/python3.7/dist-packages (from thunder-factorization) (1.0.2)\n",
            "Collecting thunder-python>=1.3.0\n",
            "  Downloading thunder-python-1.4.2.tar.gz (44 kB)\n",
            "\u001b[K     |████████████████████████████████| 44 kB 1.6 MB/s \n",
            "\u001b[?25hRequirement already satisfied: six in /usr/local/lib/python3.7/dist-packages (from thunder-python>=1.3.0->thunder-factorization) (1.15.0)\n",
            "Requirement already satisfied: pillow>=2.1.0 in /usr/local/lib/python3.7/dist-packages (from thunder-python>=1.3.0->thunder-factorization) (7.1.2)\n",
            "Collecting boto>=2.36.0\n",
            "  Downloading boto-2.49.0-py2.py3-none-any.whl (1.4 MB)\n",
            "\u001b[K     |████████████████████████████████| 1.4 MB 9.5 MB/s \n",
            "\u001b[?25hCollecting bolt-python>=0.7.0\n",
            "  Downloading bolt-python-0.7.1.tar.gz (25 kB)\n",
            "Requirement already satisfied: tifffile>=0.9.2 in /usr/local/lib/python3.7/dist-packages (from thunder-python>=1.3.0->thunder-factorization) (2021.11.2)\n",
            "Requirement already satisfied: threadpoolctl>=2.0.0 in /usr/local/lib/python3.7/dist-packages (from scikit-learn->thunder-factorization) (3.1.0)\n",
            "Requirement already satisfied: joblib>=0.11 in /usr/local/lib/python3.7/dist-packages (from scikit-learn->thunder-factorization) (1.1.0)\n",
            "Building wheels for collected packages: thunder-factorization, thunder-python, bolt-python\n",
            "  Building wheel for thunder-factorization (setup.py) ... \u001b[?25l\u001b[?25hdone\n",
            "  Created wheel for thunder-factorization: filename=thunder_factorization-1.0.0-py2.py3-none-any.whl size=7231 sha256=36aab0d9fe93c873888d2e3fac228134b620533583421294bd3f9ca09b040d4b\n",
            "  Stored in directory: /root/.cache/pip/wheels/a0/20/e4/b8991d923a61bf47bedf4c679270ca5d2eef142c52bd1a8e6d\n",
            "  Building wheel for thunder-python (setup.py) ... \u001b[?25l\u001b[?25hdone\n",
            "  Created wheel for thunder-python: filename=thunder_python-1.4.2-py3-none-any.whl size=43290 sha256=dc57965c785a020adba0156bb5834fe33ea766f7d76b16130c61609b6690e08d\n",
            "  Stored in directory: /root/.cache/pip/wheels/ba/43/af/c422f29151876dca3c6be2ce49bac784330dd4df4eab82ca12\n",
            "  Building wheel for bolt-python (setup.py) ... \u001b[?25l\u001b[?25hdone\n",
            "  Created wheel for bolt-python: filename=bolt_python-0.7.1-py3-none-any.whl size=31179 sha256=e6f2c2ed224f669e5d15c4ecaafce668404d7257f0a9fd7bfca30b8e184073dc\n",
            "  Stored in directory: /root/.cache/pip/wheels/3a/f7/15/0a7c49cb027f8e0805dc0f1d9c25bff3e0b88de009f0048aa5\n",
            "Successfully built thunder-factorization thunder-python bolt-python\n",
            "Installing collected packages: boto, bolt-python, thunder-python, thunder-factorization\n",
            "Successfully installed bolt-python-0.7.1 boto-2.49.0 thunder-factorization-1.0.0 thunder-python-1.4.2\n",
            "Collecting git+https://github.com/maciejkula/spotlight.git\n",
            "  Cloning https://github.com/maciejkula/spotlight.git to /tmp/pip-req-build-pjf3tzp5\n",
            "  Running command git clone -q https://github.com/maciejkula/spotlight.git /tmp/pip-req-build-pjf3tzp5\n",
            "Collecting lightfm\n",
            "  Downloading lightfm-1.16.tar.gz (310 kB)\n",
            "\u001b[K     |████████████████████████████████| 310 kB 5.5 MB/s \n",
            "\u001b[?25hRequirement already satisfied: torch>=0.4.0 in /usr/local/lib/python3.7/dist-packages (from spotlight==0.1.6) (1.10.0+cu111)\n",
            "Requirement already satisfied: typing-extensions in /usr/local/lib/python3.7/dist-packages (from torch>=0.4.0->spotlight==0.1.6) (3.10.0.2)\n",
            "Requirement already satisfied: numpy in /usr/local/lib/python3.7/dist-packages (from lightfm) (1.21.5)\n",
            "Requirement already satisfied: scipy>=0.17.0 in /usr/local/lib/python3.7/dist-packages (from lightfm) (1.4.1)\n",
            "Requirement already satisfied: requests in /usr/local/lib/python3.7/dist-packages (from lightfm) (2.23.0)\n",
            "Requirement already satisfied: scikit-learn in /usr/local/lib/python3.7/dist-packages (from lightfm) (1.0.2)\n",
            "Requirement already satisfied: urllib3!=1.25.0,!=1.25.1,<1.26,>=1.21.1 in /usr/local/lib/python3.7/dist-packages (from requests->lightfm) (1.24.3)\n",
            "Requirement already satisfied: chardet<4,>=3.0.2 in /usr/local/lib/python3.7/dist-packages (from requests->lightfm) (3.0.4)\n",
            "Requirement already satisfied: idna<3,>=2.5 in /usr/local/lib/python3.7/dist-packages (from requests->lightfm) (2.10)\n",
            "Requirement already satisfied: certifi>=2017.4.17 in /usr/local/lib/python3.7/dist-packages (from requests->lightfm) (2021.10.8)\n",
            "Requirement already satisfied: joblib>=0.11 in /usr/local/lib/python3.7/dist-packages (from scikit-learn->lightfm) (1.1.0)\n",
            "Requirement already satisfied: threadpoolctl>=2.0.0 in /usr/local/lib/python3.7/dist-packages (from scikit-learn->lightfm) (3.1.0)\n",
            "Building wheels for collected packages: spotlight, lightfm\n",
            "  Building wheel for spotlight (setup.py) ... \u001b[?25l\u001b[?25hdone\n",
            "  Created wheel for spotlight: filename=spotlight-0.1.6-py3-none-any.whl size=33929 sha256=0c1d77885223cb59e34ec920f24632b0fa4acea95fceacca947899076e2bd236\n",
            "  Stored in directory: /tmp/pip-ephem-wheel-cache-hsghqdvl/wheels/e3/d1/9a/e23e52dedfb8b39d6702d11b0b07e2b39728516db407e0579b\n",
            "  Building wheel for lightfm (setup.py) ... \u001b[?25l\u001b[?25hdone\n",
            "  Created wheel for lightfm: filename=lightfm-1.16-cp37-cp37m-linux_x86_64.whl size=705345 sha256=58709f119bf76eda7c12f46fc056b529e6fd69b8c8efb8388c18eb54acef7486\n",
            "  Stored in directory: /root/.cache/pip/wheels/f8/56/28/5772a3bd3413d65f03aa452190b00898b680b10028a1021914\n",
            "Successfully built spotlight lightfm\n",
            "Installing collected packages: spotlight, lightfm\n",
            "Successfully installed lightfm-1.16 spotlight-0.1.6\n"
          ]
        }
      ]
    },
    {
      "cell_type": "code",
      "source": [
        "dataset = Interactions(user_ids=df_rating['userId'].values,   \n",
        "                       item_ids=df_rating['movieId'].values,                    \n",
        "                       ratings=df_rating['rating'].values)\n",
        "train, test = random_train_test_split(dataset)\n",
        "\n",
        "modelex = ExplicitFactorizationModel(n_iter=10)\n",
        "modelex.fit(train, verbose=True)"
      ],
      "metadata": {
        "colab": {
          "base_uri": "https://localhost:8080/"
        },
        "id": "3E5uo4ScdJ0U",
        "outputId": "3865738a-1ac7-4ebf-de16-71c46be55036"
      },
      "execution_count": 18,
      "outputs": [
        {
          "output_type": "stream",
          "name": "stdout",
          "text": [
            "Epoch 0: loss 4.432457463621493\n",
            "Epoch 1: loss 0.8003426229353053\n",
            "Epoch 2: loss 0.4952444961116651\n",
            "Epoch 3: loss 0.35688563327757433\n",
            "Epoch 4: loss 0.2875098057239138\n",
            "Epoch 5: loss 0.25369908932489255\n",
            "Epoch 6: loss 0.23776780739790962\n",
            "Epoch 7: loss 0.22150011256970473\n",
            "Epoch 8: loss 0.21026006352527837\n",
            "Epoch 9: loss 0.2038935299047652\n"
          ]
        }
      ]
    },
    {
      "cell_type": "code",
      "source": [
        "def recomendacion_modeloMF(user_id, modelex, n_movies=5):    \n",
        "      \n",
        "    pred = modelex.predict(user_ids=user_id)\n",
        "    indices = np.argpartition(pred, -n_movies)[-n_movies:]\n",
        "    best_movie_ids = indices[np.argsort(pred[indices])]\n",
        "    unico = []\n",
        "    \n",
        "    for i in best_movie_ids:\n",
        "        print(i)     "
      ],
      "metadata": {
        "id": "fOPRmfqvjN8F"
      },
      "execution_count": 19,
      "outputs": []
    },
    {
      "cell_type": "markdown",
      "source": [
        "Modelo de recomendación Factorización Matricial"
      ],
      "metadata": {
        "id": "uhxwLaFEAv3T"
      }
    },
    {
      "cell_type": "code",
      "source": [
        "recomendacion_modeloMF(5, modelex, n_movies=5)"
      ],
      "metadata": {
        "colab": {
          "base_uri": "https://localhost:8080/"
        },
        "id": "z0-8chO8jPR7",
        "outputId": "94a77b0c-cf01-4b44-bc94-77cc96f2994f"
      },
      "execution_count": 20,
      "outputs": [
        {
          "output_type": "stream",
          "name": "stdout",
          "text": [
            "3159\n",
            "1834\n",
            "861\n",
            "932\n",
            "1982\n"
          ]
        }
      ]
    },
    {
      "cell_type": "markdown",
      "source": [
        "Métrica de evaluación del modelo Factorización Matricial"
      ],
      "metadata": {
        "id": "w1XtJhQCApHM"
      }
    },
    {
      "cell_type": "code",
      "source": [
        "FM_RMSE=rmse_score(modelex, test)\n",
        "print(\"Root Mean Square Error Factorización Matricial:\",FM_RMSE)"
      ],
      "metadata": {
        "colab": {
          "base_uri": "https://localhost:8080/"
        },
        "id": "c8UPufkk37o8",
        "outputId": "85e3b344-89e4-43e2-f51b-9dfed7091bdc"
      },
      "execution_count": 21,
      "outputs": [
        {
          "output_type": "stream",
          "name": "stdout",
          "text": [
            "Root Mean Square Error Factorización Matricial: 1.0736881382591272\n"
          ]
        }
      ]
    },
    {
      "cell_type": "markdown",
      "source": [
        "# **Evaluación de los modelos con la métrica RMSE**"
      ],
      "metadata": {
        "id": "bqLZLcX5xqHe"
      }
    },
    {
      "cell_type": "code",
      "source": [
        "plt.figure(figsize=(8,4))\n",
        "y = np.array([KNN_RMSE,SVD_RMSE,FM_RMSE])\n",
        "x = [\"k-Nearest Neighbors\",\"Singular Value Descomposition\",\"Matrix Factorization\"]\n",
        "plt.bar(x,y, color=['y', 'b', 'g'])\n",
        "plt.title(\"Comparación de los modelos con la métrica RMSE\")\n",
        "plt.ylabel(\"RMSE\")\n",
        "plt.show()"
      ],
      "metadata": {
        "colab": {
          "base_uri": "https://localhost:8080/",
          "height": 281
        },
        "id": "RIbFtY4vxk8X",
        "outputId": "2c06e2d7-4192-4732-ab24-c6bba215b167"
      },
      "execution_count": 28,
      "outputs": [
        {
          "output_type": "display_data",
          "data": {
            "image/png": "[encoded data removed]",
            "text/plain": [
              "<Figure size 576x288 with 1 Axes>"
            ]
          },
          "metadata": {
            "needs_background": "light"
          }
        }
      ]
    },
    {
      "cell_type": "code",
      "source": [
        "\n"
      ],
      "metadata": {
        "id": "Kz-DG0GvYWqH"
      },
      "execution_count": null,
      "outputs": []
    }
  ]
}