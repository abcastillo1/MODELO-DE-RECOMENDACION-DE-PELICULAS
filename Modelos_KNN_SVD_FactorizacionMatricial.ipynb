{
  "nbformat": 4,
  "nbformat_minor": 0,
  "metadata": {
    "colab": {
      "name": "Modelos-KNN-SVD-FactorizacionMatricial.ipynb",
      "provenance": [],
      "collapsed_sections": []
    },
    "kernelspec": {
      "name": "python3",
      "display_name": "Python 3"
    },
    "language_info": {
      "name": "python"
    }
  },
  "cells": [
    {
      "cell_type": "markdown",
      "source": [
        "# **Dataset**"
      ],
      "metadata": {
        "id": "Vy2NYK-rEMlH"
      }
    },
    {
      "cell_type": "code",
      "execution_count": 3,
      "metadata": {
        "id": "3VtapFNEdaEr"
      },
      "outputs": [],
      "source": [
        "import pandas as pd\n",
        "import numpy as np\n",
        "import matplotlib.pyplot as plt\n",
        "import seaborn as sns\n",
        "from sklearn.model_selection import train_test_split\n",
        "from sklearn import metrics"
      ]
    },
    {
      "cell_type": "markdown",
      "source": [
        "Cargar los Datos."
      ],
      "metadata": {
        "id": "YjtxW4dBjbpE"
      }
    },
    {
      "cell_type": "code",
      "source": [
        "movies_df = pd.read_csv(\"movies.csv\").drop(['genres'],axis =1)\n",
        "df = pd.read_csv(\"movies_rating.csv\").drop(['Unnamed: 0'],axis =1)\n",
        "df_rating=df"
      ],
      "metadata": {
        "id": "dsG8Fda_x6V9"
      },
      "execution_count": 2,
      "outputs": []
    },
    {
      "cell_type": "markdown",
      "source": [
        "Dividir los datos en conjuntos de datos de entrenamiento y prueba."
      ],
      "metadata": {
        "id": "4tEcdw79CtCv"
      }
    },
    {
      "cell_type": "code",
      "source": [
        "min_rating = min(df[\"rating\"])\n",
        "max_rating = max(df[\"rating\"])\n",
        "X = df_rating[[\"userId\", \"movieId\"]]\n",
        "y = df[['rating']].apply(lambda x: (x - min_rating) / (max_rating - min_rating))\n",
        "y = y.astype('int64')\n",
        "X_train, X_test, y_train, y_test = train_test_split(X, y, test_size=0.3)"
      ],
      "metadata": {
        "id": "aKbLJ2G0r72c"
      },
      "execution_count": 4,
      "outputs": []
    },
    {
      "cell_type": "markdown",
      "source": [
        "Diccionario CLAVE - VALOR "
      ],
      "metadata": {
        "id": "5WziQ-NhC22P"
      }
    },
    {
      "cell_type": "code",
      "source": [
        "user_mapper = dict(df_rating.movieId) \n",
        "movies_list = list(user_mapper)"
      ],
      "metadata": {
        "id": "WN49hE6OCx9_"
      },
      "execution_count": 5,
      "outputs": []
    },
    {
      "cell_type": "markdown",
      "source": [
        "Funciones para retornar los valores de fila o columna de cada película."
      ],
      "metadata": {
        "id": "VoWRftOYDXSG"
      }
    },
    {
      "cell_type": "code",
      "source": [
        "def obtener_fila(val):\n",
        "    for key, value in user_mapper.items():\n",
        "         if val == value:\n",
        "             return key"
      ],
      "metadata": {
        "id": "JvxrApukOONN"
      },
      "execution_count": 6,
      "outputs": []
    },
    {
      "cell_type": "code",
      "source": [
        "def obtener_valor(val):\n",
        "    for key, value in user_mapper.items():\n",
        "         if val == key:\n",
        "             return value"
      ],
      "metadata": {
        "id": "1C5pGjGwyOGm"
      },
      "execution_count": 7,
      "outputs": []
    },
    {
      "cell_type": "markdown",
      "source": [
        "# **KNN Model**\n",
        "Uno de los métodos más populares de filtrado colaborativo es el algoritmo k-Nearest Neighbors (kNN). kNN es un algoritmo de clasificación donde k es un parámetro que especifica el número de vecinos utilizados. Para usar kNN, el sistema debe tener una medida similitud para distinguir entre los usuarios que están cerca y los que están lejos. "
      ],
      "metadata": {
        "id": "q9oW41-i_6X4"
      }
    },
    {
      "cell_type": "code",
      "source": [
        "# Librerías necesarias para el modelo\n",
        "from sklearn.neighbors import KNeighborsClassifier\n",
        "from sklearn.metrics import confusion_matrix\n",
        "from sklearn.model_selection import cross_val_score\n",
        "from sklearn import metrics\n",
        "from math import sqrt\n",
        "from sklearn.metrics import mean_squared_error"
      ],
      "metadata": {
        "id": "mfMTZWo9_-2A"
      },
      "execution_count": 29,
      "outputs": []
    },
    {
      "cell_type": "code",
      "source": [
        "KNN = KNeighborsClassifier(metric='cosine', algorithm='brute', n_neighbors=5)\n",
        "KNN.fit(X_train, y_train.values.ravel())    \n",
        "y_predict = KNN.predict(X_test)\n",
        "\n",
        "def recomendacion_modeloKNN(id, modelo, datos, k):\n",
        "  fila=obtener_fila(id)\n",
        "  movies_list = list(user_mapper)\n",
        "  print('Pelicula Seleccionada: ',fila)  \n",
        "  print('-----------------------------------------------------------------')\n",
        "  distancia,indice=modelo.kneighbors(X_test.iloc[[fila]], n_neighbors = k)   \n",
        "  print(indice)     "
      ],
      "metadata": {
        "id": "jq19hcKvACaH"
      },
      "execution_count": 84,
      "outputs": []
    },
    {
      "cell_type": "markdown",
      "source": [
        "Modelo de recomendación KNN"
      ],
      "metadata": {
        "id": "LRqW5IwI9vpu"
      }
    },
    {
      "cell_type": "code",
      "source": [
        "recomendacion_modeloKNN(1, KNN, X_train,5)"
      ],
      "metadata": {
        "colab": {
          "base_uri": "https://localhost:8080/"
        },
        "id": "5eIFzB0srSGu",
        "outputId": "edba62de-1a6f-4d81-f94e-e40ae3720532"
      },
      "execution_count": 85,
      "outputs": [
        {
          "output_type": "stream",
          "name": "stdout",
          "text": [
            "Pelicula Seleccionada:  0\n",
            "-----------------------------------------------------------------\n",
            "[[ 8843 37104 60642   487 30683]]\n"
          ]
        }
      ]
    },
    {
      "cell_type": "markdown",
      "source": [
        "Métricas de evaluación del modelo KNN"
      ],
      "metadata": {
        "id": "5a8IjXCz94-v"
      }
    },
    {
      "cell_type": "code",
      "source": [
        "print(\"KNN Accuracy:\",metrics.accuracy_score(y_test, y_predict))\n",
        "print(\"Root Mean Square error KNN\",sqrt(mean_squared_error(y_test,y_predict)))"
      ],
      "metadata": {
        "colab": {
          "base_uri": "https://localhost:8080/"
        },
        "id": "h2VyXP16AE-4",
        "outputId": "649196bf-4b76-49d4-9b43-e3e1f5ddd476"
      },
      "execution_count": 86,
      "outputs": [
        {
          "output_type": "stream",
          "name": "stdout",
          "text": [
            "KNN Accuracy: 0.8568972926514826\n",
            "Root Mean Square error KNN 0.3782891848156875\n"
          ]
        }
      ]
    },
    {
      "cell_type": "markdown",
      "source": [
        "Exactitud para cada K del modelo"
      ],
      "metadata": {
        "id": "ZVwo_ADs7IWp"
      }
    },
    {
      "cell_type": "code",
      "source": [
        "scores = cross_val_score(KNN, X, y, cv=5, scoring='accuracy')\n",
        "print(scores)"
      ],
      "metadata": {
        "colab": {
          "base_uri": "https://localhost:8080/"
        },
        "id": "qm-8dgTcKItV",
        "outputId": "d328caee-126f-4421-b907-f46af2fad530"
      },
      "execution_count": 87,
      "outputs": [
        {
          "output_type": "stream",
          "name": "stderr",
          "text": [
            "/usr/local/lib/python3.7/dist-packages/sklearn/neighbors/_classification.py:198: DataConversionWarning: A column-vector y was passed when a 1d array was expected. Please change the shape of y to (n_samples,), for example using ravel().\n",
            "  return self._fit(X, y)\n",
            "/usr/local/lib/python3.7/dist-packages/sklearn/neighbors/_classification.py:198: DataConversionWarning: A column-vector y was passed when a 1d array was expected. Please change the shape of y to (n_samples,), for example using ravel().\n",
            "  return self._fit(X, y)\n",
            "/usr/local/lib/python3.7/dist-packages/sklearn/neighbors/_classification.py:198: DataConversionWarning: A column-vector y was passed when a 1d array was expected. Please change the shape of y to (n_samples,), for example using ravel().\n",
            "  return self._fit(X, y)\n",
            "/usr/local/lib/python3.7/dist-packages/sklearn/neighbors/_classification.py:198: DataConversionWarning: A column-vector y was passed when a 1d array was expected. Please change the shape of y to (n_samples,), for example using ravel().\n",
            "  return self._fit(X, y)\n",
            "/usr/local/lib/python3.7/dist-packages/sklearn/neighbors/_classification.py:198: DataConversionWarning: A column-vector y was passed when a 1d array was expected. Please change the shape of y to (n_samples,), for example using ravel().\n",
            "  return self._fit(X, y)\n"
          ]
        },
        {
          "output_type": "stream",
          "name": "stdout",
          "text": [
            "[0.76190004 0.85496108 0.85193633 0.85540735 0.85144047]\n"
          ]
        }
      ]
    },
    {
      "cell_type": "markdown",
      "source": [
        "Promedio de la exactitud del modelo"
      ],
      "metadata": {
        "id": "VnVB41qC6mES"
      }
    },
    {
      "cell_type": "code",
      "source": [
        "scores.mean()"
      ],
      "metadata": {
        "colab": {
          "base_uri": "https://localhost:8080/"
        },
        "id": "q_GCMkilggt9",
        "outputId": "ebdb917d-7b2f-4e58-91a3-ea45345db808"
      },
      "execution_count": 90,
      "outputs": [
        {
          "output_type": "execute_result",
          "data": {
            "text/plain": [
              "0.8351290534036826"
            ]
          },
          "metadata": {},
          "execution_count": 90
        }
      ]
    },
    {
      "cell_type": "markdown",
      "source": [
        "# **SVD Model**\n",
        "La Descomposición en valores singulares (SVD) es un algoritmo conveniente para trabajar con matrices. La Descomposición en valores singulares se utiliza en la resolución de varios problemas, el método de aproximación mínimos cuadrados, resolución de sistemas de ecuaciones, entre otras."
      ],
      "metadata": {
        "id": "cK4hNIZddjuK"
      }
    },
    {
      "cell_type": "code",
      "source": [
        "# Librerías necesarias para el modelo\n",
        "!pip install surprise\n",
        "from collections import defaultdict\n",
        "from surprise import Reader, Dataset\n",
        "from surprise.model_selection import train_test_split\n",
        "from surprise import SVD, accuracy"
      ],
      "metadata": {
        "colab": {
          "base_uri": "https://localhost:8080/"
        },
        "id": "bBRlUDV9gden",
        "outputId": "e02574b4-4361-4a18-c388-1da7679c2fcd"
      },
      "execution_count": 8,
      "outputs": [
        {
          "output_type": "stream",
          "name": "stdout",
          "text": [
            "Requirement already satisfied: surprise in /usr/local/lib/python3.7/dist-packages (0.1)\n",
            "Requirement already satisfied: scikit-surprise in /usr/local/lib/python3.7/dist-packages (from surprise) (1.1.1)\n",
            "Requirement already satisfied: joblib>=0.11 in /usr/local/lib/python3.7/dist-packages (from scikit-surprise->surprise) (1.1.0)\n",
            "Requirement already satisfied: numpy>=1.11.2 in /usr/local/lib/python3.7/dist-packages (from scikit-surprise->surprise) (1.21.5)\n",
            "Requirement already satisfied: six>=1.10.0 in /usr/local/lib/python3.7/dist-packages (from scikit-surprise->surprise) (1.15.0)\n",
            "Requirement already satisfied: scipy>=1.0.0 in /usr/local/lib/python3.7/dist-packages (from scikit-surprise->surprise) (1.4.1)\n"
          ]
        }
      ]
    },
    {
      "cell_type": "code",
      "source": [
        "reader = Reader(rating_scale=(1, 5))\n",
        "data = Dataset.load_from_df(df_rating, reader)\n",
        "trainset, testset = train_test_split(data, test_size=0.30)\n",
        "\n",
        "algo = SVD()\n",
        "algo.fit(trainset)\n",
        "predictions = algo.test(testset)\n",
        "\n",
        "def recomendacion_modeloSVD(predictions, n):\n",
        "    # Asignar las predicciones a cada usuario.\n",
        "    top_n = defaultdict(list)    \n",
        "    print('registros',top_n.items())\n",
        "    for uid, iid, true_r, est, _ in predictions:\n",
        "        top_n[0].append((iid, est))\n",
        "\n",
        "    # Ordenar las predicciones para cada usuario y recupere las k más altas.\n",
        "    for uid, user_ratings in top_n.items():\n",
        "        user_ratings.sort(key=lambda x: x[1], reverse=True)\n",
        "        top_n[uid] = user_ratings[:n]\n",
        "\n",
        "    return top_n"
      ],
      "metadata": {
        "id": "MqmofCMhFG_-"
      },
      "execution_count": 10,
      "outputs": []
    },
    {
      "cell_type": "markdown",
      "source": [
        "Modelo de recomendación SVD"
      ],
      "metadata": {
        "id": "8DSlcNDP-_I9"
      }
    },
    {
      "cell_type": "code",
      "source": [
        "top_n = recomendacion_modeloSVD(predictions, n=10)\n",
        "\n",
        "# Películas recomendadas para el usuario\n",
        "for uid, user_ratings in top_n.items():\n",
        "    print(uid, [iid for (iid, _) in user_ratings])"
      ],
      "metadata": {
        "id": "nTWsEWxjgb5p"
      },
      "execution_count": null,
      "outputs": []
    },
    {
      "cell_type": "markdown",
      "source": [
        "Métrica de evaluación del modelo KNN"
      ],
      "metadata": {
        "id": "WN_tzmVn_YMU"
      }
    },
    {
      "cell_type": "code",
      "source": [
        "print(\"Root Mean Square Error SVD\",accuracy.rmse(predictions))"
      ],
      "metadata": {
        "colab": {
          "base_uri": "https://localhost:8080/"
        },
        "id": "OCqn9BFQsK5M",
        "outputId": "058bd490-bf23-45e1-ca21-728557955d47"
      },
      "execution_count": 11,
      "outputs": [
        {
          "output_type": "stream",
          "name": "stdout",
          "text": [
            "RMSE: 0.8766\n",
            "Root Mean Square Error SVD 0.8766428735313772\n"
          ]
        }
      ]
    },
    {
      "cell_type": "markdown",
      "source": [
        "# **Matrix Factorization Model**\n",
        "La Factorización Matricial determina los valores de la calificación pronosticada al separar los componentes matrices del usuario y encontrar el valor del parámetro más cercano posible a la matriz original. El cual será el valor que tenga calificaciones de películas que los usuarios nunca hayan calificado antes y sugerirá películas con calificaciones altas."
      ],
      "metadata": {
        "id": "vosDvX_hdoxa"
      }
    },
    {
      "cell_type": "code",
      "source": [
        "# Librerías necesarias para el modelo\n",
        "!pip install thunder-factorization\n",
        "!pip install git+https://github.com/maciejkula/spotlight.git lightfm\n",
        "from spotlight.interactions import Interactions\n",
        "from spotlight.factorization.explicit import ExplicitFactorizationModel\n",
        "from spotlight.cross_validation import random_train_test_split\n",
        "from spotlight.evaluation import rmse_score"
      ],
      "metadata": {
        "id": "U1XqoxSGeD-6",
        "colab": {
          "base_uri": "https://localhost:8080/"
        },
        "outputId": "99649fc6-0422-436a-e904-ad1e3c46eeaf"
      },
      "execution_count": 15,
      "outputs": [
        {
          "output_type": "stream",
          "name": "stdout",
          "text": [
            "Requirement already satisfied: thunder-factorization in /usr/local/lib/python3.7/dist-packages (1.0.0)\n",
            "Requirement already satisfied: thunder-python>=1.3.0 in /usr/local/lib/python3.7/dist-packages (from thunder-factorization) (1.4.2)\n",
            "Requirement already satisfied: scipy in /usr/local/lib/python3.7/dist-packages (from thunder-factorization) (1.4.1)\n",
            "Requirement already satisfied: numpy in /usr/local/lib/python3.7/dist-packages (from thunder-factorization) (1.21.5)\n",
            "Requirement already satisfied: scikit-learn in /usr/local/lib/python3.7/dist-packages (from thunder-factorization) (1.0.2)\n",
            "Requirement already satisfied: pillow>=2.1.0 in /usr/local/lib/python3.7/dist-packages (from thunder-python>=1.3.0->thunder-factorization) (7.1.2)\n",
            "Requirement already satisfied: bolt-python>=0.7.0 in /usr/local/lib/python3.7/dist-packages (from thunder-python>=1.3.0->thunder-factorization) (0.7.1)\n",
            "Requirement already satisfied: six in /usr/local/lib/python3.7/dist-packages (from thunder-python>=1.3.0->thunder-factorization) (1.15.0)\n",
            "Requirement already satisfied: tifffile>=0.9.2 in /usr/local/lib/python3.7/dist-packages (from thunder-python>=1.3.0->thunder-factorization) (2021.11.2)\n",
            "Requirement already satisfied: boto>=2.36.0 in /usr/local/lib/python3.7/dist-packages (from thunder-python>=1.3.0->thunder-factorization) (2.49.0)\n",
            "Requirement already satisfied: threadpoolctl>=2.0.0 in /usr/local/lib/python3.7/dist-packages (from scikit-learn->thunder-factorization) (3.1.0)\n",
            "Requirement already satisfied: joblib>=0.11 in /usr/local/lib/python3.7/dist-packages (from scikit-learn->thunder-factorization) (1.1.0)\n",
            "Collecting git+https://github.com/maciejkula/spotlight.git\n",
            "  Cloning https://github.com/maciejkula/spotlight.git to /tmp/pip-req-build-ep0e_mbs\n",
            "  Running command git clone -q https://github.com/maciejkula/spotlight.git /tmp/pip-req-build-ep0e_mbs\n",
            "Requirement already satisfied: lightfm in /usr/local/lib/python3.7/dist-packages (1.16)\n",
            "Requirement already satisfied: torch>=0.4.0 in /usr/local/lib/python3.7/dist-packages (from spotlight==0.1.6) (1.10.0+cu111)\n",
            "Requirement already satisfied: typing-extensions in /usr/local/lib/python3.7/dist-packages (from torch>=0.4.0->spotlight==0.1.6) (3.10.0.2)\n",
            "Requirement already satisfied: scipy>=0.17.0 in /usr/local/lib/python3.7/dist-packages (from lightfm) (1.4.1)\n",
            "Requirement already satisfied: numpy in /usr/local/lib/python3.7/dist-packages (from lightfm) (1.21.5)\n",
            "Requirement already satisfied: scikit-learn in /usr/local/lib/python3.7/dist-packages (from lightfm) (1.0.2)\n",
            "Requirement already satisfied: requests in /usr/local/lib/python3.7/dist-packages (from lightfm) (2.23.0)\n",
            "Requirement already satisfied: chardet<4,>=3.0.2 in /usr/local/lib/python3.7/dist-packages (from requests->lightfm) (3.0.4)\n",
            "Requirement already satisfied: urllib3!=1.25.0,!=1.25.1,<1.26,>=1.21.1 in /usr/local/lib/python3.7/dist-packages (from requests->lightfm) (1.24.3)\n",
            "Requirement already satisfied: certifi>=2017.4.17 in /usr/local/lib/python3.7/dist-packages (from requests->lightfm) (2021.10.8)\n",
            "Requirement already satisfied: idna<3,>=2.5 in /usr/local/lib/python3.7/dist-packages (from requests->lightfm) (2.10)\n",
            "Requirement already satisfied: joblib>=0.11 in /usr/local/lib/python3.7/dist-packages (from scikit-learn->lightfm) (1.1.0)\n",
            "Requirement already satisfied: threadpoolctl>=2.0.0 in /usr/local/lib/python3.7/dist-packages (from scikit-learn->lightfm) (3.1.0)\n"
          ]
        }
      ]
    },
    {
      "cell_type": "code",
      "source": [
        "dataset = Interactions(user_ids=df_rating['userId'].values,   \n",
        "                       item_ids=df_rating['movieId'].values,                    \n",
        "                       ratings=df_rating['rating'].values)\n",
        "train, test = random_train_test_split(dataset)\n",
        "\n",
        "modelex = ExplicitFactorizationModel(n_iter=10)\n",
        "modelex.fit(train, verbose=True)"
      ],
      "metadata": {
        "colab": {
          "base_uri": "https://localhost:8080/"
        },
        "id": "3E5uo4ScdJ0U",
        "outputId": "44c49323-29c4-4602-9ac4-0bd1abfc1d6d"
      },
      "execution_count": 16,
      "outputs": [
        {
          "output_type": "stream",
          "name": "stdout",
          "text": [
            "Epoch 0: loss 4.349146908268966\n",
            "Epoch 1: loss 0.809280066641488\n",
            "Epoch 2: loss 0.5015158361835762\n",
            "Epoch 3: loss 0.3612660800567194\n",
            "Epoch 4: loss 0.29030551649372405\n",
            "Epoch 5: loss 0.25598594820073034\n",
            "Epoch 6: loss 0.23492095927890086\n",
            "Epoch 7: loss 0.22508255981138095\n",
            "Epoch 8: loss 0.21382118655862387\n",
            "Epoch 9: loss 0.20470441905520484\n"
          ]
        }
      ]
    },
    {
      "cell_type": "code",
      "source": [
        "def recomendacion_modeloMF(user_id, modelex, n_movies=5):    \n",
        "      \n",
        "    pred = modelex.predict(user_ids=user_id)\n",
        "    indices = np.argpartition(pred, -n_movies)[-n_movies:]\n",
        "    best_movie_ids = indices[np.argsort(pred[indices])]\n",
        "    unico = []\n",
        "    \n",
        "    for i in best_movie_ids:\n",
        "        print(i)     "
      ],
      "metadata": {
        "id": "fOPRmfqvjN8F"
      },
      "execution_count": 17,
      "outputs": []
    },
    {
      "cell_type": "markdown",
      "source": [
        "Modelo de recomendación Factorización Matricial"
      ],
      "metadata": {
        "id": "uhxwLaFEAv3T"
      }
    },
    {
      "cell_type": "code",
      "source": [
        "recomendacion_modeloMF(5, modelex, n_movies=5)"
      ],
      "metadata": {
        "colab": {
          "base_uri": "https://localhost:8080/"
        },
        "id": "z0-8chO8jPR7",
        "outputId": "e70c14c7-8c4a-4e66-8bab-31e6b813c8fc"
      },
      "execution_count": 18,
      "outputs": [
        {
          "output_type": "stream",
          "name": "stdout",
          "text": [
            "596\n",
            "55363\n",
            "1223\n",
            "2530\n",
            "2387\n"
          ]
        }
      ]
    },
    {
      "cell_type": "markdown",
      "source": [
        "Métrica de evaluación del modelo Factorización Matricial"
      ],
      "metadata": {
        "id": "w1XtJhQCApHM"
      }
    },
    {
      "cell_type": "code",
      "source": [
        "print(\"Root Mean Square Error Factorización Matricial:\",rmse_score(modelex, test))"
      ],
      "metadata": {
        "colab": {
          "base_uri": "https://localhost:8080/"
        },
        "id": "c8UPufkk37o8",
        "outputId": "1b1c3065-69fa-4a94-84e9-1759aa64f9ee"
      },
      "execution_count": 23,
      "outputs": [
        {
          "output_type": "stream",
          "name": "stdout",
          "text": [
            "Root Mean Square Error Factorización Matricial: 1.0682667993294057\n"
          ]
        }
      ]
    }
  ]
}